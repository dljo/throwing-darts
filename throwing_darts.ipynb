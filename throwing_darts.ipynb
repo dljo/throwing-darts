{
 "cells": [
  {
   "cell_type": "code",
   "execution_count": null,
   "id": "9d3b8b05-a16c-45cf-8373-203b7e17ba09",
   "metadata": {
    "tags": []
   },
   "outputs": [],
   "source": [
    "from IPython.display import IFrame\n",
    "IFrame(src=\"https://coderefinery.github.io/jupyter/first-notebook/\", width='100%', height='500px')"
   ]
  },
  {
   "cell_type": "markdown",
   "id": "ee92aae0-8cbb-4571-a09c-043d5a8d517a",
   "metadata": {
    "tags": []
   },
   "source": [
    "# Calculating pi using Monte Carlo methods"
   ]
  },
  {
   "cell_type": "markdown",
   "id": "7518acf7-e047-4258-bdcf-e5403d5089a5",
   "metadata": {},
   "source": [
    "## Relevant formulas\n",
    "\n",
    "- square area: $s = (2 r)^2$\n",
    "- circle area: $c = \\pi r^2$\n",
    "- $c/s = (\\pi r^2) / (4 r^2) = \\pi / 4$\n",
    "- $\\pi = 4 * c/s$\n"
   ]
  },
  {
   "cell_type": "markdown",
   "id": "36caa4d9-5d88-4809-b530-2876c8c343ac",
   "metadata": {},
   "source": [
    "## Image to visualize the concept\n",
    "\n",
    "![Darts](https://raw.githubusercontent.com/coderefinery/jupyter/main/example/darts.svg)"
   ]
  },
  {
   "cell_type": "code",
   "execution_count": null,
   "id": "b121ffa5-dc07-4e1a-a1db-7132f742cb7f",
   "metadata": {
    "tags": []
   },
   "outputs": [],
   "source": [
    "# importing modules that we will need\n",
    "\n",
    "import random\n",
    "import matplotlib.pyplot as plt\n"
   ]
  },
  {
   "cell_type": "code",
   "execution_count": null,
   "id": "c3f0eff9-f2d8-43d9-b980-a6ad5c205d94",
   "metadata": {
    "tags": []
   },
   "outputs": [],
   "source": [
    "# initializing the number of \"throws\"\n",
    "\n",
    "num_points = 1000"
   ]
  },
  {
   "cell_type": "code",
   "execution_count": null,
   "id": "8f2a3816-061f-4d6d-90cc-92fb1adc14c9",
   "metadata": {
    "tags": []
   },
   "outputs": [],
   "source": [
    "# here we \"throw darts\" and count the number of hits\n",
    "\n",
    "points = []\n",
    "hits = 0\n",
    "for _ in range(num_points):\n",
    "    x, y = random.random(), random.random()\n",
    "    if x*x + y*y < 1.0:\n",
    "        hits += 1\n",
    "        points.append((x, y, \"red\"))\n",
    "    else:\n",
    "        points.append((x, y, \"blue\"))\n"
   ]
  },
  {
   "cell_type": "code",
   "execution_count": null,
   "id": "a0b85bd9-8c98-4422-9e56-a40ae7b97e8b",
   "metadata": {
    "tags": []
   },
   "outputs": [],
   "source": [
    "# unzip points into 3 lists\n",
    "x, y, colors = zip(*points)\n",
    "\n",
    "# define figure dimensions\n",
    "fig, ax = plt.subplots()\n",
    "fig.set_size_inches(6.0, 6.0)\n",
    "\n",
    "# plot results\n",
    "ax.scatter(x, y, c=colors)"
   ]
  },
  {
   "cell_type": "code",
   "execution_count": null,
   "id": "c1961fe8-45a9-44ef-945a-9c8ac508fa7a",
   "metadata": {
    "tags": []
   },
   "outputs": [],
   "source": [
    "# compute and print the estimate\n",
    "\n",
    "fraction = hits / num_points\n",
    "4 * fraction"
   ]
  },
  {
   "cell_type": "code",
   "execution_count": null,
   "id": "b9190727-52e9-4c22-81d1-07cd9318f61b",
   "metadata": {
    "tags": []
   },
   "outputs": [],
   "source": [
    "def darts(num_points, figure=False):\n",
    "    points = []\n",
    "    hits = 0\n",
    "    for _ in range(num_points):\n",
    "        x, y = random.random(), random.random()\n",
    "        if x*x + y*y < 1.0:\n",
    "            hits += 1\n",
    "            points.append((x, y, 'red'))\n",
    "        else:\n",
    "            points.append((x, y, 'blue'))\n",
    "    x, y, colors = zip(*points)\n",
    "    if figure:\n",
    "        fig, ax = plt.subplots()\n",
    "        fig.set_size_inches(6.0, 6.0)\n",
    "        ax.scatter(x, y, c=colors)\n",
    "    fraction = hits / num_points\n",
    "    print(4 * fraction)"
   ]
  },
  {
   "cell_type": "code",
   "execution_count": null,
   "id": "623a7249-0192-47fa-9b10-1580c5485f05",
   "metadata": {
    "tags": []
   },
   "outputs": [],
   "source": [
    "darts(1000000)"
   ]
  },
  {
   "cell_type": "code",
   "execution_count": null,
   "id": "8be39229-9448-43bc-9dba-0bd63feac939",
   "metadata": {},
   "outputs": [],
   "source": []
  }
 ],
 "metadata": {
  "kernelspec": {
   "display_name": "Python 3 (ipykernel)",
   "language": "python",
   "name": "python3"
  },
  "language_info": {
   "codemirror_mode": {
    "name": "ipython",
    "version": 3
   },
   "file_extension": ".py",
   "mimetype": "text/x-python",
   "name": "python",
   "nbconvert_exporter": "python",
   "pygments_lexer": "ipython3",
   "version": "3.10.9"
  }
 },
 "nbformat": 4,
 "nbformat_minor": 5
}
